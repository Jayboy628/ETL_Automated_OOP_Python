{
 "cells": [
  {
   "cell_type": "code",
   "execution_count": 1,
   "id": "9ac29880",
   "metadata": {},
   "outputs": [],
   "source": [
    "import boto3\n",
    "import pandas as pd\n",
    "from io import StringIO"
   ]
  },
  {
   "cell_type": "code",
   "execution_count": 2,
   "id": "5f4c044a",
   "metadata": {},
   "outputs": [],
   "source": [
    "s3 = boto3.resource('s3')\n",
    "bucket = s3.Bucket('deutsche-boerse-xetra-pds')"
   ]
  },
  {
   "cell_type": "code",
   "execution_count": 3,
   "id": "d1dfabb4",
   "metadata": {},
   "outputs": [],
   "source": [
    "bucket_obj = bucket.objects.filter(Prefix='2021-10-18')\n",
    "objects = [obj for obj in bucket_obj]"
   ]
  },
  {
   "cell_type": "code",
   "execution_count": 5,
   "id": "5c6dfdd4",
   "metadata": {},
   "outputs": [
    {
     "data": {
      "text/plain": [
       "[s3.ObjectSummary(bucket_name='deutsche-boerse-xetra-pds', key='2021-10-18/2021-10-18_BINS_XETR00.csv'),\n",
       " s3.ObjectSummary(bucket_name='deutsche-boerse-xetra-pds', key='2021-10-18/2021-10-18_BINS_XETR01.csv'),\n",
       " s3.ObjectSummary(bucket_name='deutsche-boerse-xetra-pds', key='2021-10-18/2021-10-18_BINS_XETR02.csv'),\n",
       " s3.ObjectSummary(bucket_name='deutsche-boerse-xetra-pds', key='2021-10-18/2021-10-18_BINS_XETR03.csv'),\n",
       " s3.ObjectSummary(bucket_name='deutsche-boerse-xetra-pds', key='2021-10-18/2021-10-18_BINS_XETR04.csv'),\n",
       " s3.ObjectSummary(bucket_name='deutsche-boerse-xetra-pds', key='2021-10-18/2021-10-18_BINS_XETR05.csv'),\n",
       " s3.ObjectSummary(bucket_name='deutsche-boerse-xetra-pds', key='2021-10-18/2021-10-18_BINS_XETR06.csv'),\n",
       " s3.ObjectSummary(bucket_name='deutsche-boerse-xetra-pds', key='2021-10-18/2021-10-18_BINS_XETR07.csv'),\n",
       " s3.ObjectSummary(bucket_name='deutsche-boerse-xetra-pds', key='2021-10-18/2021-10-18_BINS_XETR08.csv'),\n",
       " s3.ObjectSummary(bucket_name='deutsche-boerse-xetra-pds', key='2021-10-18/2021-10-18_BINS_XETR09.csv'),\n",
       " s3.ObjectSummary(bucket_name='deutsche-boerse-xetra-pds', key='2021-10-18/2021-10-18_BINS_XETR10.csv'),\n",
       " s3.ObjectSummary(bucket_name='deutsche-boerse-xetra-pds', key='2021-10-18/2021-10-18_BINS_XETR11.csv'),\n",
       " s3.ObjectSummary(bucket_name='deutsche-boerse-xetra-pds', key='2021-10-18/2021-10-18_BINS_XETR12.csv'),\n",
       " s3.ObjectSummary(bucket_name='deutsche-boerse-xetra-pds', key='2021-10-18/2021-10-18_BINS_XETR13.csv'),\n",
       " s3.ObjectSummary(bucket_name='deutsche-boerse-xetra-pds', key='2021-10-18/2021-10-18_BINS_XETR14.csv'),\n",
       " s3.ObjectSummary(bucket_name='deutsche-boerse-xetra-pds', key='2021-10-18/2021-10-18_BINS_XETR15.csv'),\n",
       " s3.ObjectSummary(bucket_name='deutsche-boerse-xetra-pds', key='2021-10-18/2021-10-18_BINS_XETR16.csv'),\n",
       " s3.ObjectSummary(bucket_name='deutsche-boerse-xetra-pds', key='2021-10-18/2021-10-18_BINS_XETR17.csv'),\n",
       " s3.ObjectSummary(bucket_name='deutsche-boerse-xetra-pds', key='2021-10-18/2021-10-18_BINS_XETR18.csv'),\n",
       " s3.ObjectSummary(bucket_name='deutsche-boerse-xetra-pds', key='2021-10-18/2021-10-18_BINS_XETR19.csv'),\n",
       " s3.ObjectSummary(bucket_name='deutsche-boerse-xetra-pds', key='2021-10-18/2021-10-18_BINS_XETR20.csv'),\n",
       " s3.ObjectSummary(bucket_name='deutsche-boerse-xetra-pds', key='2021-10-18/2021-10-18_BINS_XETR21.csv'),\n",
       " s3.ObjectSummary(bucket_name='deutsche-boerse-xetra-pds', key='2021-10-18/2021-10-18_BINS_XETR22.csv'),\n",
       " s3.ObjectSummary(bucket_name='deutsche-boerse-xetra-pds', key='2021-10-18/2021-10-18_BINS_XETR23.csv')]"
      ]
     },
     "execution_count": 15,
     "metadata": {},
     "output_type": "execute_result"
    }
   ],
   "source": [
    "objects"
   ]
  },
  {
   "cell_type": "code",
   "execution_count": 7,
   "id": "620ced49",
   "metadata": {},
   "outputs": [],
   "source": [
    "csv_obj = bucket.Object(key='2021-10-18/2021-10-18_BINS_XETR00.csv').get().get('Body').read().decode('utf-8')"
   ]
  },
  {
   "cell_type": "code",
   "execution_count": 8,
   "id": "6d054a7a",
   "metadata": {},
   "outputs": [
    {
     "data": {
      "text/plain": [
       "'ISIN,Mnemonic,SecurityDesc,SecurityType,Currency,SecurityID,Date,Time,StartPrice,MaxPrice,MinPrice,EndPrice,TradedVolume,NumberOfTrades\\n'"
      ]
     },
     "execution_count": 17,
     "metadata": {},
     "output_type": "execute_result"
    }
   ],
   "source": [
    "csv_obj.head()"
   ]
  },
  {
   "cell_type": "code",
   "execution_count": null,
   "id": "b3ad4181",
   "metadata": {},
   "outputs": [],
   "source": [
    "data = StringIO(csv_obj)\n",
    "df = pd.read_csv(data, delimiter=',')"
   ]
  },
  {
   "cell_type": "code",
   "execution_count": null,
   "id": "4bfe93da",
   "metadata": {},
   "outputs": [
    {
     "data": {
      "text/html": [
       "<div>\n",
       "<style scoped>\n",
       "    .dataframe tbody tr th:only-of-type {\n",
       "        vertical-align: middle;\n",
       "    }\n",
       "\n",
       "    .dataframe tbody tr th {\n",
       "        vertical-align: top;\n",
       "    }\n",
       "\n",
       "    .dataframe thead th {\n",
       "        text-align: right;\n",
       "    }\n",
       "</style>\n",
       "<table border=\"1\" class=\"dataframe\">\n",
       "  <thead>\n",
       "    <tr style=\"text-align: right;\">\n",
       "      <th></th>\n",
       "      <th>ISIN</th>\n",
       "      <th>Mnemonic</th>\n",
       "      <th>SecurityDesc</th>\n",
       "      <th>SecurityType</th>\n",
       "      <th>Currency</th>\n",
       "      <th>SecurityID</th>\n",
       "      <th>Date</th>\n",
       "      <th>Time</th>\n",
       "      <th>StartPrice</th>\n",
       "      <th>MaxPrice</th>\n",
       "      <th>MinPrice</th>\n",
       "      <th>EndPrice</th>\n",
       "      <th>TradedVolume</th>\n",
       "      <th>NumberOfTrades</th>\n",
       "    </tr>\n",
       "  </thead>\n",
       "  <tbody>\n",
       "  </tbody>\n",
       "</table>\n",
       "</div>"
      ],
      "text/plain": [
       "Empty DataFrame\n",
       "Columns: [ISIN, Mnemonic, SecurityDesc, SecurityType, Currency, SecurityID, Date, Time, StartPrice, MaxPrice, MinPrice, EndPrice, TradedVolume, NumberOfTrades]\n",
       "Index: []"
      ]
     },
     "execution_count": 19,
     "metadata": {},
     "output_type": "execute_result"
    }
   ],
   "source": [
    "df"
   ]
  },
  {
   "cell_type": "code",
   "execution_count": null,
   "id": "c48a83f3",
   "metadata": {},
   "outputs": [],
   "source": []
  }
 ],
 "metadata": {
  "kernelspec": {
   "display_name": "Python 3 (ipykernel)",
   "language": "python",
   "name": "python3"
  },
  "language_info": {
   "codemirror_mode": {
    "name": "ipython",
    "version": 3
   },
   "file_extension": ".py",
   "mimetype": "text/x-python",
   "name": "python",
   "nbconvert_exporter": "python",
   "pygments_lexer": "ipython3",
   "version": "3.8.2"
  }
 },
 "nbformat": 4,
 "nbformat_minor": 5
}
